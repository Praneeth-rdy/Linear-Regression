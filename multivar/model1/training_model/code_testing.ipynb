{
 "cells": [
  {
   "cell_type": "code",
   "execution_count": 1,
   "metadata": {},
   "outputs": [],
   "source": [
    "import numpy as np\n",
    "import matplotlib.pyplot as plt"
   ]
  },
  {
   "cell_type": "code",
   "execution_count": 2,
   "metadata": {},
   "outputs": [],
   "source": [
    "def import_data():\n",
    "    X = np.genfromtxt(\"train_X_lr.csv\", delimiter=',', dtype=np.float64, skip_header=1)\n",
    "    Y = np.genfromtxt(\"train_Y_lr.csv\", delimiter=',', dtype=np.float64)\n",
    "    return X,Y\n",
    "\n",
    "def J(X, Y, W):\n",
    "    error = np.dot(X,W) - Y\n",
    "    j = (1/(2*m)) * np.dot(error.T,error)\n",
    "    return j.squeeze()\n",
    "def dJ(X, Y, W):\n",
    "    error = np.dot(X,W) - Y\n",
    "    dj = (1/m) * np.dot(X.T,error)\n",
    "    return dj\n",
    "def gradient_descent_W(X, Y, iterations, learning_rate):\n",
    "    global costfn\n",
    "    costfn = np.array([])\n",
    "    \n",
    "    W = np.zeros((n+1,1))\n",
    "    for i in range(iterations):\n",
    "        \n",
    "        costfn = np.append(costfn, J(X, Y, W))#Appending new costfn\n",
    "        \n",
    "        W = W - learning_rate*dJ(X, Y, W)\n",
    "    return W"
   ]
  },
  {
   "cell_type": "code",
   "execution_count": 3,
   "metadata": {},
   "outputs": [],
   "source": [
    "global m,n\n",
    "\n",
    "train_X, train_Y = import_data()\n",
    "m = len(train_Y)\n",
    "n = len(train_X[0])\n",
    "\n",
    "train_X = np.insert(train_X, 0, 1, axis=1)\n",
    "train_Y = train_Y.reshape((m,1))"
   ]
  },
  {
   "cell_type": "code",
   "execution_count": 4,
   "metadata": {},
   "outputs": [
    {
     "data": {
      "image/png": "[encoded data removed]",
      "text/plain": [
       "<Figure size 432x288 with 1 Axes>"
      ]
     },
     "metadata": {
      "needs_background": "light"
     },
     "output_type": "display_data"
    }
   ],
   "source": [
    "iterations, alpha = 100, 0.0002\n",
    "\n",
    "W = gradient_descent_W(train_X, train_Y, iterations, alpha)\n",
    "x = np.linspace(0, iterations-1, num=iterations)\n",
    "plt.plot(x, costfn) # remove the third argument for a line graph without o dots.\n",
    "plt.grid() #fills background with grids\n",
    "plt.axvline() #adds x=0 (vertical axis) to the graph\n",
    "plt.axhline() #adds y=0 (horizontal axis) to the graph\n",
    "plt.show()"
   ]
  },
  {
   "cell_type": "code",
   "execution_count": 5,
   "metadata": {},
   "outputs": [
    {
     "data": {
      "text/plain": [
       "array([[0.06605075],\n",
       "       [4.31450916],\n",
       "       [3.7673997 ],\n",
       "       [3.49001588],\n",
       "       [4.84227358]])"
      ]
     },
     "execution_count": 5,
     "metadata": {},
     "output_type": "execute_result"
    }
   ],
   "source": [
    "W"
   ]
  },
  {
   "cell_type": "code",
   "execution_count": 6,
   "metadata": {},
   "outputs": [
    {
     "name": "stdout",
     "output_type": "stream",
     "text": [
      "11767.885080803297\n"
     ]
    }
   ],
   "source": [
    "print(2* J(train_X, train_Y, W))"
   ]
  },
  {
   "cell_type": "code",
   "execution_count": null,
   "metadata": {},
   "outputs": [],
   "source": []
  }
 ],
 "metadata": {
  "kernelspec": {
   "display_name": "Python 3.8.2 64-bit",
   "language": "python",
   "name": "python38264bit68270150f3b34be3833caa7b23f7999f"
  },
  "language_info": {
   "codemirror_mode": {
    "name": "ipython",
    "version": 3
   },
   "file_extension": ".py",
   "mimetype": "text/x-python",
   "name": "python",
   "nbconvert_exporter": "python",
   "pygments_lexer": "ipython3",
   "version": "3.8.2"
  }
 },
 "nbformat": 4,
 "nbformat_minor": 4
}
